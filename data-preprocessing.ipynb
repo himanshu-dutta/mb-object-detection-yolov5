{
 "cells": [
  {
   "cell_type": "code",
   "execution_count": 1,
   "metadata": {},
   "outputs": [],
   "source": [
    "from tqdm import tqdm\n",
    "import pandas as pd\n",
    "import numpy as np\n",
    "import json"
   ]
  },
  {
   "cell_type": "markdown",
   "metadata": {},
   "source": [
    "# Indian Food Ingredient Dataset"
   ]
  },
  {
   "cell_type": "code",
   "execution_count": 2,
   "metadata": {},
   "outputs": [
    {
     "data": {
      "text/plain": [
       "['sugar',\n",
       " 'ginger',\n",
       " 'garam masala',\n",
       " 'urad dal',\n",
       " 'curry leaves',\n",
       " 'ghee',\n",
       " 'milk',\n",
       " 'rice flour',\n",
       " 'jaggery',\n",
       " 'tomato']"
      ]
     },
     "execution_count": 2,
     "metadata": {},
     "output_type": "execute_result"
    }
   ],
   "source": [
    "indian_df = pd.read_csv(\"indian_food.csv\")\n",
    "ingredients = [ingredient.strip().lower() for ingredient_list in indian_df[\"ingredients\"] for ingredient in ingredient_list.split(\",\")]\n",
    "k=10\n",
    "top_k = pd.DataFrame(ingredients, columns=[\"ingredient\"])[\"ingredient\"].value_counts()[:k]\n",
    "list(top_k.index)"
   ]
  },
  {
   "cell_type": "code",
   "execution_count": 27,
   "metadata": {},
   "outputs": [
    {
     "data": {
      "text/html": [
       "<div>\n",
       "<style scoped>\n",
       "    .dataframe tbody tr th:only-of-type {\n",
       "        vertical-align: middle;\n",
       "    }\n",
       "\n",
       "    .dataframe tbody tr th {\n",
       "        vertical-align: top;\n",
       "    }\n",
       "\n",
       "    .dataframe thead th {\n",
       "        text-align: right;\n",
       "    }\n",
       "</style>\n",
       "<table border=\"1\" class=\"dataframe\">\n",
       "  <thead>\n",
       "    <tr style=\"text-align: right;\">\n",
       "      <th></th>\n",
       "      <th>sugar</th>\n",
       "      <th>ginger</th>\n",
       "      <th>garam masala</th>\n",
       "      <th>urad dal</th>\n",
       "      <th>curry leaves</th>\n",
       "      <th>ghee</th>\n",
       "      <th>milk</th>\n",
       "      <th>rice flour</th>\n",
       "      <th>jaggery</th>\n",
       "      <th>tomato</th>\n",
       "      <th>dish</th>\n",
       "    </tr>\n",
       "  </thead>\n",
       "  <tbody>\n",
       "    <tr>\n",
       "      <th>0</th>\n",
       "      <td>1</td>\n",
       "      <td>0</td>\n",
       "      <td>0</td>\n",
       "      <td>0</td>\n",
       "      <td>0</td>\n",
       "      <td>0</td>\n",
       "      <td>0</td>\n",
       "      <td>0</td>\n",
       "      <td>0</td>\n",
       "      <td>0</td>\n",
       "      <td>balu shahi</td>\n",
       "    </tr>\n",
       "    <tr>\n",
       "      <th>1</th>\n",
       "      <td>1</td>\n",
       "      <td>0</td>\n",
       "      <td>0</td>\n",
       "      <td>0</td>\n",
       "      <td>0</td>\n",
       "      <td>1</td>\n",
       "      <td>0</td>\n",
       "      <td>0</td>\n",
       "      <td>0</td>\n",
       "      <td>0</td>\n",
       "      <td>boondi</td>\n",
       "    </tr>\n",
       "    <tr>\n",
       "      <th>2</th>\n",
       "      <td>1</td>\n",
       "      <td>0</td>\n",
       "      <td>0</td>\n",
       "      <td>0</td>\n",
       "      <td>0</td>\n",
       "      <td>1</td>\n",
       "      <td>1</td>\n",
       "      <td>0</td>\n",
       "      <td>0</td>\n",
       "      <td>0</td>\n",
       "      <td>gajar ka halwa</td>\n",
       "    </tr>\n",
       "    <tr>\n",
       "      <th>3</th>\n",
       "      <td>1</td>\n",
       "      <td>0</td>\n",
       "      <td>0</td>\n",
       "      <td>0</td>\n",
       "      <td>0</td>\n",
       "      <td>1</td>\n",
       "      <td>1</td>\n",
       "      <td>0</td>\n",
       "      <td>0</td>\n",
       "      <td>0</td>\n",
       "      <td>ghevar</td>\n",
       "    </tr>\n",
       "    <tr>\n",
       "      <th>4</th>\n",
       "      <td>1</td>\n",
       "      <td>0</td>\n",
       "      <td>0</td>\n",
       "      <td>0</td>\n",
       "      <td>0</td>\n",
       "      <td>1</td>\n",
       "      <td>1</td>\n",
       "      <td>0</td>\n",
       "      <td>0</td>\n",
       "      <td>0</td>\n",
       "      <td>gulab jamun</td>\n",
       "    </tr>\n",
       "  </tbody>\n",
       "</table>\n",
       "</div>"
      ],
      "text/plain": [
       "  sugar ginger garam masala urad dal curry leaves ghee milk rice flour  \\\n",
       "0     1      0            0        0            0    0    0          0   \n",
       "1     1      0            0        0            0    1    0          0   \n",
       "2     1      0            0        0            0    1    1          0   \n",
       "3     1      0            0        0            0    1    1          0   \n",
       "4     1      0            0        0            0    1    1          0   \n",
       "\n",
       "  jaggery tomato            dish  \n",
       "0       0      0      balu shahi  \n",
       "1       0      0          boondi  \n",
       "2       0      0  gajar ka halwa  \n",
       "3       0      0          ghevar  \n",
       "4       0      0     gulab jamun  "
      ]
     },
     "execution_count": 27,
     "metadata": {},
     "output_type": "execute_result"
    }
   ],
   "source": [
    "ingredients_list = list(top_k.index)\n",
    "ingredients_to_dish = pd.DataFrame(columns=ingredients_list + [\"dish\"])\n",
    "\n",
    "for idx, row in indian_df.iterrows():\n",
    "    dish_ingredients = [ing.lower().strip() for ing in row[\"ingredients\"].split(\",\")]\n",
    "    row_ = dict()\n",
    "    insert = 0\n",
    "    for ing in ingredients_list:\n",
    "        if ing in dish_ingredients:\n",
    "            insert = 1\n",
    "            row_.update({ing: 1})\n",
    "        else:\n",
    "            row_.update({ing: 0})\n",
    "            \n",
    "    if insert:\n",
    "        row_.update({\"dish\": row[\"name\"].lower().strip()})\n",
    "        ingredients_to_dish = ingredients_to_dish.append(row_, ignore_index=True)\n",
    "        \n",
    "ingredients_to_dish.head()"
   ]
  },
  {
   "cell_type": "code",
   "execution_count": 36,
   "metadata": {},
   "outputs": [],
   "source": [
    "list(ingredients_to_dish[ingredients_to_dish[\"sugar\"] == 1][\"dish\"])\n",
    "\n",
    "ingredients_to_dish_dict = dict()\n",
    "\n",
    "for ing in ingredients_list:\n",
    "    ingredients_to_dish_dict.update({\n",
    "        ing:list(ingredients_to_dish[ingredients_to_dish[ing] == 1][\"dish\"])\n",
    "    })\n",
    "with open(\"../assets/ingredients_to_dish.json\", \"w\") as fl:\n",
    "    json.dump(ingredients_to_dish_dict, fl)"
   ]
  }
 ],
 "metadata": {
  "kernelspec": {
   "display_name": "Python 3",
   "language": "python",
   "name": "python3"
  },
  "language_info": {
   "codemirror_mode": {
    "name": "ipython",
    "version": 3
   },
   "file_extension": ".py",
   "mimetype": "text/x-python",
   "name": "python",
   "nbconvert_exporter": "python",
   "pygments_lexer": "ipython3",
   "version": "3.7.6"
  }
 },
 "nbformat": 4,
 "nbformat_minor": 4
}